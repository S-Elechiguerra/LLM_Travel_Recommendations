{
 "cells": [
  {
   "cell_type": "code",
   "execution_count": null,
   "metadata": {},
   "outputs": [],
   "source": [
    "import requests\n",
    "\n",
    "class TravelAdvisor:\n",
    "    def __init__(self, api_key):\n",
    "        self.api_key = api_key\n",
    "        self.api_url = \"https://api.example.com/v1/engines/text-davinci-003/completions\"  # Replace with the actual API URL\n",
    "        self.headers = {\n",
    "            \"Content-Type\": \"application/json\",\n",
    "            \"Authorization\": f\"Bearer {self.api_key}\"\n",
    "        }\n",
    "        self.destinations = {\n",
    "            'adventure': ['Nepal', 'Patagonia', 'New Zealand'],\n",
    "            'relaxation': ['Maldives', 'Bali', 'Hawaii'],\n",
    "            'culture': ['Italy', 'Japan', 'Greece'],\n",
    "            'budget': ['Thailand', 'Portugal', 'Mexico']\n",
    "        }\n",
    "\n",
    "    def get_recommendations(self, preference):\n",
    "        recommendations = self.destinations.get(preference.lower(), [\"No recommendations available for this preference\"])\n",
    "        return recommendations\n",
    "\n",
    "    def ask_question(self, question):\n",
    "        data = {\n",
    "            \"prompt\": question,\n",
    "            \"max_tokens\": 50,\n",
    "            \"temperature\": 0.7\n",
    "        }\n",
    "        response = requests.post(self.api_url, headers=self.headers, json=data)\n",
    "        if response.status_code == 200:\n",
    "            return response.json()['choices'][0]['text']\n",
    "        else:\n",
    "            return \"Sorry, I'm having trouble processing your request.\"\n",
    "\n",
    "# Example usage\n",
    "api_key = \"your_api_key_here\"  # Replace with your actual API key\n",
    "advisor = TravelAdvisor(api_key)\n",
    "\n",
    "# Gather user preferences\n",
    "user_preference = input(\"What type of travel are you interested in (adventure, relaxation, culture, budget)? \")\n",
    "\n",
    "# Provide recommendations\n",
    "recommendations = advisor.get_recommendations(user_preference)\n",
    "print(f\"Based on your interest in {user_preference} travel, we recommend the following destinations:\")\n",
    "for destination in recommendations:\n",
    "    print(destination)\n",
    "\n",
    "# Ask the API a question\n",
    "question = input(\"Ask a question about your travel destination: \")\n",
    "answer = advisor.ask_question(question)\n",
    "print(f\"Answer: {answer}\")\n"
   ]
  }
 ],
 "metadata": {
  "language_info": {
   "name": "python"
  }
 },
 "nbformat": 4,
 "nbformat_minor": 2
}
