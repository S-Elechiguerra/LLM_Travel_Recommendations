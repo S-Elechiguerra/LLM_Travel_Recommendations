{
 "cells": [
  {
   "cell_type": "code",
   "execution_count": 4,
   "metadata": {},
   "outputs": [
    {
     "name": "stdout",
     "output_type": "stream",
     "text": [
      "Collecting openai==0.28\n",
      "  Downloading openai-0.28.0-py3-none-any.whl.metadata (13 kB)\n",
      "Requirement already satisfied: requests>=2.20 in c:\\users\\elechiguerra\\anaconda3\\lib\\site-packages (from openai==0.28) (2.32.2)\n",
      "Requirement already satisfied: tqdm in c:\\users\\elechiguerra\\anaconda3\\lib\\site-packages (from openai==0.28) (4.66.4)\n",
      "Requirement already satisfied: aiohttp in c:\\users\\elechiguerra\\anaconda3\\lib\\site-packages (from openai==0.28) (3.9.5)\n",
      "Requirement already satisfied: charset-normalizer<4,>=2 in c:\\users\\elechiguerra\\anaconda3\\lib\\site-packages (from requests>=2.20->openai==0.28) (2.0.4)\n",
      "Requirement already satisfied: idna<4,>=2.5 in c:\\users\\elechiguerra\\anaconda3\\lib\\site-packages (from requests>=2.20->openai==0.28) (3.7)\n",
      "Requirement already satisfied: urllib3<3,>=1.21.1 in c:\\users\\elechiguerra\\anaconda3\\lib\\site-packages (from requests>=2.20->openai==0.28) (2.2.2)\n",
      "Requirement already satisfied: certifi>=2017.4.17 in c:\\users\\elechiguerra\\anaconda3\\lib\\site-packages (from requests>=2.20->openai==0.28) (2024.8.30)\n",
      "Requirement already satisfied: aiosignal>=1.1.2 in c:\\users\\elechiguerra\\anaconda3\\lib\\site-packages (from aiohttp->openai==0.28) (1.2.0)\n",
      "Requirement already satisfied: attrs>=17.3.0 in c:\\users\\elechiguerra\\anaconda3\\lib\\site-packages (from aiohttp->openai==0.28) (24.2.0)\n",
      "Requirement already satisfied: frozenlist>=1.1.1 in c:\\users\\elechiguerra\\anaconda3\\lib\\site-packages (from aiohttp->openai==0.28) (1.4.0)\n",
      "Requirement already satisfied: multidict<7.0,>=4.5 in c:\\users\\elechiguerra\\anaconda3\\lib\\site-packages (from aiohttp->openai==0.28) (6.0.4)\n",
      "Requirement already satisfied: yarl<2.0,>=1.0 in c:\\users\\elechiguerra\\anaconda3\\lib\\site-packages (from aiohttp->openai==0.28) (1.9.3)\n",
      "Requirement already satisfied: colorama in c:\\users\\elechiguerra\\anaconda3\\lib\\site-packages (from tqdm->openai==0.28) (0.4.6)\n",
      "Downloading openai-0.28.0-py3-none-any.whl (76 kB)\n",
      "   ---------------------------------------- 0.0/76.5 kB ? eta -:--:--\n",
      "   ---------------------------------------- 76.5/76.5 kB 2.1 MB/s eta 0:00:00\n",
      "Installing collected packages: openai\n",
      "  Attempting uninstall: openai\n",
      "    Found existing installation: openai 1.51.2\n",
      "    Uninstalling openai-1.51.2:\n",
      "      Successfully uninstalled openai-1.51.2\n",
      "Successfully installed openai-0.28.0\n"
     ]
    }
   ],
   "source": [
    "# Install the OpenAI Library\n",
    "!pip install openai==0.28"
   ]
  },
  {
   "cell_type": "code",
   "execution_count": 1,
   "metadata": {},
   "outputs": [
    {
     "name": "stdout",
     "output_type": "stream",
     "text": [
      "Requirement already satisfied: python-dotenv in c:\\users\\elechiguerra\\anaconda3\\lib\\site-packages (0.21.0)\n"
     ]
    }
   ],
   "source": [
    "!pip install python-dotenv\n"
   ]
  },
  {
   "cell_type": "code",
   "execution_count": 6,
   "metadata": {},
   "outputs": [
    {
     "name": "stdout",
     "output_type": "stream",
     "text": [
      "Welcome to AI-Powered Travel Advisor!\n",
      "\n",
      "You provided the following details:\n",
      "Interests: culture\n",
      "Budget: medium\n",
      "Travel Type: relaxation\n",
      "Sorry, no recommendations match your preferences.\n"
     ]
    }
   ],
   "source": [
    "import openai\n",
    "import os\n",
    "from dotenv import load_dotenv\n",
    "import pandas as pd\n",
    "from sklearn.feature_extraction.text import TfidfVectorizer\n",
    "from sklearn.metrics.pairwise import cosine_similarity\n",
    "\n",
    "# Load your OpenAI API key from the .env file\n",
    "load_dotenv()\n",
    "openai.api_key = os.getenv(\"OPENAI_API_KEY\")\n",
    "\n",
    "# Example DataFrame of travel destinations\n",
    "data = {\n",
    "    'destination': ['Paris', 'Tokyo', 'Bangkok', 'New York', 'Sydney'],\n",
    "    'interests': ['culture, art, history', 'technology, anime, food', 'beaches, nightlife, temples',\n",
    "                  'shopping, food, landmarks', 'beaches, adventure, wildlife'],\n",
    "    'budget_range': ['high', 'high', 'medium', 'medium', 'low'],\n",
    "    'travel_type': ['relaxation', 'adventure', 'adventure', 'adventure', 'relaxation']\n",
    "}\n",
    "df_destinations = pd.DataFrame(data)\n",
    "\n",
    "# Function to gather user preferences and print them\n",
    "def gather_preferences():\n",
    "    print(\"Welcome to AI-Powered Travel Advisor!\")\n",
    "    \n",
    "    # Collect user inputs\n",
    "    interests = input(\"Enter your interests (e.g., culture, beaches, nightlife): \")\n",
    "    budget = input(\"Enter your budget (low, medium, high): \")\n",
    "    travel_type = input(\"Enter preferred travel type (e.g., adventure, relaxation): \")\n",
    "    \n",
    "    # Print user inputs for each step\n",
    "    print(\"\\nYou provided the following details:\")\n",
    "    print(f\"Interests: {interests}\")\n",
    "    print(f\"Budget: {budget}\")\n",
    "    print(f\"Travel Type: {travel_type}\")\n",
    "    \n",
    "    return interests, budget, travel_type\n",
    "\n",
    "# Function to recommend destinations\n",
    "def recommend_destinations(interests, budget, travel_type):\n",
    "    # Vectorize the 'interests' column to measure similarity\n",
    "    vectorizer = TfidfVectorizer()\n",
    "    X = vectorizer.fit_transform(df_destinations['interests'])\n",
    "\n",
    "    # Calculate similarity based on user input\n",
    "    user_input = [interests]\n",
    "    user_vec = vectorizer.transform(user_input)\n",
    "    cosine_sim = cosine_similarity(user_vec, X).flatten()\n",
    "\n",
    "    # Filter destinations by budget and travel type\n",
    "    df_filtered = df_destinations[(df_destinations['budget_range'] == budget) & \n",
    "                                  (df_destinations['travel_type'] == travel_type)].copy()\n",
    "\n",
    "    # Apply cosine similarity to the filtered DataFrame by aligning indices properly\n",
    "    df_filtered['similarity'] = cosine_sim[df_filtered.index]\n",
    "    \n",
    "    # Sort by similarity score and reset the index to ensure proper assignment\n",
    "    df_filtered = df_filtered.sort_values(by='similarity', ascending=False).reset_index(drop=True)\n",
    "\n",
    "    # Return top recommendations\n",
    "    return df_filtered[['destination', 'similarity']]\n",
    "\n",
    "# Function to ask OpenAI API questions\n",
    "def ask_openai(question):\n",
    "    response = openai.Completion.create(\n",
    "        engine=\"text-davinci-003\",\n",
    "        prompt=question,\n",
    "        max_tokens=100\n",
    "    )\n",
    "    return response.choices[0].text.strip()\n",
    "\n",
    "# Main interactive function\n",
    "def travel_advisor():\n",
    "    interests, budget, travel_type = gather_preferences()\n",
    "    \n",
    "    # Get recommendations based on user preferences\n",
    "    recommendations = recommend_destinations(interests, budget, travel_type)\n",
    "    \n",
    "    if not recommendations.empty:\n",
    "        print(\"\\nTop destination recommendations based on your preferences:\\n\")\n",
    "        print(recommendations[['destination', 'similarity']])\n",
    "\n",
    "        # Ask if user wants to know more about the destinations\n",
    "        more_info = input(\"\\nDo you want to ask questions about these destinations? (yes/no): \").lower()\n",
    "        \n",
    "        while more_info == 'yes':\n",
    "            question = input(\"Ask a question about one of the destinations: \")\n",
    "            answer = ask_openai(question)\n",
    "            print(f\"\\nAnswer: {answer}\")\n",
    "            more_info = input(\"\\nDo you have more questions? (yes/no): \").lower()\n",
    "    else:\n",
    "        print(\"Sorry, no recommendations match your preferences.\")\n",
    "\n",
    "# Run the travel advisor\n",
    "travel_advisor()\n"
   ]
  }
 ],
 "metadata": {
  "kernelspec": {
   "display_name": "base",
   "language": "python",
   "name": "python3"
  },
  "language_info": {
   "codemirror_mode": {
    "name": "ipython",
    "version": 3
   },
   "file_extension": ".py",
   "mimetype": "text/x-python",
   "name": "python",
   "nbconvert_exporter": "python",
   "pygments_lexer": "ipython3",
   "version": "3.12.4"
  }
 },
 "nbformat": 4,
 "nbformat_minor": 2
}
